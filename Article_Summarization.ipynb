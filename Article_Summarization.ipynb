{
 "cells": [
  {
   "cell_type": "code",
   "execution_count": null,
   "metadata": {},
   "outputs": [],
   "source": [
    "'''---------------------------------------------------------------------\n",
    "--nltk = \"natural language processing toolkit\"\n",
    "--sent_tokenize : split the data into sentences\n",
    "--word_tokenize : split the data into words\n",
    "--stopworkds.words('english') : to remove/ignore the stopwords (e.g. a, an , the, of ...)\n",
    "download : nltk.download() - for using NLTK packages\n",
    "----------------------------------------------------------------------------------------------------\n",
    "concept of 'defaultdict' : Rather than throwing a KeyError , it will create a default item and add that key-value pair to the dictionary.\n",
    "defaultdict inherits from (\"is-a\" ) dictionary.'''"
   ]
  },
  {
   "cell_type": "code",
   "execution_count": 107,
   "metadata": {},
   "outputs": [],
   "source": [
    "import nltk\n",
    "from nltk.tokenize import sent_tokenize, word_tokenize\n",
    "from nltk.corpus import stopwords\n",
    "\n",
    "from collections import defaultdict\n",
    "from string import punctuation\n",
    "# get n largest elements from the list\n",
    "from heapq import nlargest\n",
    "\n"
   ]
  },
  {
   "cell_type": "code",
   "execution_count": 175,
   "metadata": {},
   "outputs": [],
   "source": [
    "# our class: TextSummarizer\n",
    "class TextSummarizer:\n",
    "    def __init__(self, min_cut=0.1, max_cut=0.9):\n",
    "        #default member initialization\n",
    "        self._min_cut=min_cut\n",
    "        self._max_cut=max_cut\n",
    "        #stopwords + punctuations\n",
    "        self._stopwords=set(stopwords.words('english')+ list(punctuation))\n",
    "        #print(len(self._stopwords))\n",
    "    \n",
    "    def _Calculate_frequencies(self, word_sent):\n",
    "        #keys : words, Key_value: frequency of the word\n",
    "        #if key is not present in the wordlist the assign default value\n",
    "        #defalultdict is a class inherits from dictionary\n",
    "        #stopwords1=set(stopwords.words('english')+ list(punctuation))\n",
    "        freq = defaultdict(int)\n",
    "        #freq1=freq\n",
    "        for sentence in word_sent:\n",
    "            for word in sentence:\n",
    "                if word not in self._stopwords:\n",
    "                    freq[word]=freq[word]+1\n",
    "        #freq1=freq\n",
    "        #frequency normalization of each word \n",
    "        #by dividing with hightest frequency after it frequency will be between(0-1)\n",
    "        max_freq=float(max(freq.values())) # to get highest frequency\n",
    "        # copy key values into list\n",
    "        res=[]\n",
    "        for key in freq.keys(): \n",
    "            res.append(key) \n",
    "        print(res)\n",
    "        # copy the freq dictionary into freq1 to avoid RuntimeError dictinary size change\n",
    "        freq1=freq.copy()\n",
    "        for word in freq1.keys():\n",
    "            freq[word]=freq[word]/max_freq\n",
    "            if freq[word]>=self._max_cut or freq[word]<=self._min_cut:\n",
    "                del freq[word]  \n",
    "                # will delete key value pair with respect to low and hight freq.\n",
    "        return freq\n",
    "    \n",
    "    def summarize(self, text, n):\n",
    "        sents=sent_tokenize(text)  # converts text into sentences\n",
    "        assert n<= len(sents)    # to check is summary less than the original text or not \n",
    "        word_sent=[word_tokenize(s.lower()) for s in sents]  # converts sentences into lowercase and then into list of words\n",
    "        self._freq=self._Calculate_frequencies(word_sent)  # returns dictionary with its frequency\n",
    "        rankings=defaultdict(int)  # used to create empty default dictionary  to hold sentence rankings\n",
    "        for i, sent in enumerate(word_sent): \n",
    "            #enumerate converts list into tuples with its index value.\n",
    "            for word in sent:\n",
    "                if word in self._freq:\n",
    "                    rankings[i]+= self._freq[word]\n",
    "        sents_index = nlargest(n, rankings, key=rankings.get)\n",
    "        \n",
    "        return [sents[j] for j in sents_index]\n",
    "                \n",
    "        \n",
    "        \n",
    "        "
   ]
  },
  {
   "cell_type": "code",
   "execution_count": 176,
   "metadata": {},
   "outputs": [],
   "source": [
    "# ger URL  to summarize the data \n",
    "#import urllib\n",
    "from bs4 import BeautifulSoup\n",
    "from urllib.request import urlopen"
   ]
  },
  {
   "cell_type": "code",
   "execution_count": 1,
   "metadata": {},
   "outputs": [],
   "source": [
    "def get_text_from_Article_url(url):\n",
    "    page= urllib.request.urlopen(url).read().decode('utf8')\n",
    "    soup = BeautifulSoup(page)\n",
    "    #join all data which is in tag: article \n",
    "    text= \" \".join(map(lambda p: p.text, soup.find_all('article')))\n",
    "    \n",
    "    soup2=BeautifulSoup(text)\n",
    "    #join all data which is in tag: p - paragraph\n",
    "    text= \" \".join(map(lambda p: p.text, soup2.find_all('p')))\n",
    "    return soup.title.text, text"
   ]
  },
  {
   "cell_type": "code",
   "execution_count": 178,
   "metadata": {},
   "outputs": [
    {
     "name": "stderr",
     "output_type": "stream",
     "text": [
      "C:\\Users\\Shailendra\\Anaconda3\\lib\\site-packages\\bs4\\__init__.py:181: UserWarning: No parser was explicitly specified, so I'm using the best available HTML parser for this system (\"lxml\"). This usually isn't a problem, but if you run this code on another system, or in a different virtual environment, it may use a different parser and behave differently.\n",
      "\n",
      "The code that caused this warning is on line 193 of the file C:\\Users\\Shailendra\\Anaconda3\\lib\\runpy.py. To get rid of this warning, change code that looks like this:\n",
      "\n",
      " BeautifulSoup(YOUR_MARKUP})\n",
      "\n",
      "to this:\n",
      "\n",
      " BeautifulSoup(YOUR_MARKUP, \"lxml\")\n",
      "\n",
      "  markup_type=markup_type))\n"
     ]
    }
   ],
   "source": [
    "# here one can type the url which they want to summarise\n",
    "someUrl = \"https://www.washingtonpost.com/politics/in-face-of-criticism-trump-surges-to-his-biggest-lead-over-the-gop-field/2015/12/14/b9555e30-a29c-11e5-9c4e-be37f66848bb_story.html\"\n",
    "textofURL=get_text_from_Article_url(someUrl)\n",
    "#textofURL"
   ]
  },
  {
   "cell_type": "code",
   "execution_count": null,
   "metadata": {},
   "outputs": [],
   "source": [
    "#someUrl = \"https://www.washingtonpost.com/politics/in-face-of-criticism-trump-surges-to-his-biggest-lead-over-the-gop-field/2015/12/14/b9555e30-a29c-11e5-9c4e-be37f66848bb_story.html\"\n",
    "#textofURL=get_text_from_Article_url(someUrl)\n",
    "#textofURL"
   ]
  },
  {
   "cell_type": "code",
   "execution_count": 179,
   "metadata": {},
   "outputs": [
    {
     "name": "stdout",
     "output_type": "stream",
     "text": [
      "['following', 'proposal', 'temporarily', 'bar', 'muslims', 'entering', 'country', 'donald', 'trump', 'increased', 'lead', 'republican', 'primary', 'largest', 'margin', 'yet', 'according', 'new', 'washington', 'post-abc', 'news', 'poll', 'results', 'latest', 'sign', '’', 'outspoken', 'comments', 'immigration', 'terrorism', 'continue', 'find', 'audience', 'among', 'rank-and-file', 'republicans', 'spite', 'sharp', 'condemnation', 'democrats', 'gop', 'leaders', 'rivals', 'chorus', 'world', 'survey', 'puts', 'support', '38', 'percent', 'registered', 'gop-leaning', 'independents', 'six', 'points', 'higher', 'october', 'november', 'sen.', 'ted', 'cruz', 'texas', 'also', 'running', 'anti-establishment', 'campaign', 'surged', 'second', 'place', '15', 'effectively', 'doubling', 'since', 'last', 'month', 'marco', 'rubio', 'florida', 'ben', 'carson', 'tied', 'third', '12', 'top', 'field', 'earlier', 'fall', 'saw', 'cut', 'roughly', 'half', 'past', 'candidate', 'registers', 'double', 'digits', 'former', 'governor', 'jeb', 'bush', 'stands', '5', 'explore', 'complete', 'trust', 'view', 'graphic', 'point', 'even', 'first', 'votes', 'fewer', '50', 'days', 'away', 'national', 'polls', 'always', 'reliable', 'predictors', 'presidential', 'nominating', 'contests', 'heading', 'time', 'four', 'years', 'ago', 'congressman', 'newt', 'gingrich', 'eventual', 'nominee', 'mitt', 'romney', 'side', 'eight', 'york', 'city', 'mayor', 'rudy', 'giuliani', 'led', 'hillary', 'clinton', 'held', 'wide', 'then-sen.', 'barack', 'obama', 'eventually', 'lost', 'surveys', 'change', 'quickly', 'sometimes', 'dramatically', 'voters', 'early', 'states', 'begin', 'register', 'preferences', 'iowa', 'kicks', 'season', 'caucuses', 'feb.', '1', 'trailed', 'des', 'moines', 'register-bloomberg', 'politics', 'released', 'weekend', 'continues', 'hampshire', 'holds', '9', 'race', 'shown', 'fluidity', 'recent', 'weeks', 'amid', 'jockeying', 'group', 'candidates', 'battling', 'establishment', 'nasty', 'conflicts', 'crowd', 'las', 'vegas', 'rally', 'good', 'hypothetical', '\\xadgeneral-election', 'trails', 'democratic', 'front-runner', '53', '40', 'adults', '44', 'latter', 'within', 'range', 'sampling', 'error', 'beyond', '69', 'nationally', 'say', 'would', 'feel', 'anxious', 'president', '49', 'saying', '“', 'strongly', '”', 'compares', '29', 'americans', 'comfortable', 'contrast', '51', 'oval', 'office', 'compared', '47', 'regardless', 'attitudes', 'may', 'coming', 'underscores', 'degree', 'dominated', 'virtually', 'respects', 'year', 'skillfully', 'used', 'megaphone', 'media', 'spread', 'views', 'tapped', 'vein', 'anger', 'right', 'relentless', 'critic', 'opponent', 'appears', 'ready', 'challenge', 'came', 'frontrunner', \"'s\", 'call', 'ban', 'united', 'notable', 'gillian', 'brockell/the', 'post', 'taken', 'immediately', 'perhaps', 'heaviest', 'criticism', 'week', 'called', 'entry', 'u.s.', 'officials', 'could', 'guarantee', 'process', 'screening', 'potential', 'terrorists', 'cases', 'made', 'controversial', 'questionable', 'statements', 'however', 'widespread', 'billionaire', 'reality', 'tv', 'star', 'followed', 'result', 'diminution', 'large', 'part', '59', 'agree', 'proposed', '60', 'wrong', 'thing', 'daily', '202', 'benefit', 'focus', 'tonight', 'debate', 'dominance', 'seen', 'throughout', 'huge', 'leads', 'comes', 'see', 'strongest', 'leader', 'likely', 'bring', 'best', 'chance', 'winning', 'general', 'election', '54', 'cite', 'question', 'shake', 'name', 'pick', 'enjoys', '4-to-1', 'nearest', 'strength', 'changing', '3-to-1', 'advantage', 'win', 'two', 'attributes', '—', 'honesty', 'personality', 'either', 'quarter', 'citing', 'bunched', 'closely', 'others', 'make', 'five', 'major', 'terrorist', 'attacks', 'paris', 'san', 'bernardino', 'calif.', 'important', 'issue', 'cited', 'economy', '6', 'highlight', 'rank', 'asked', 'choose', 'deal', 'threats', 'desire', 'appeal', 'outsiders', 'staple', 'political', 'though', '57', 'prefer', 'someone', 'experience', 'system', 'next', '37', 'outside', '58', 'want', 'outsider', 'overwhelming', 'choice', 'nomination', 'every', 'demographic', 'ideological', 'significantly', 'greater', 'less', 'education', 'lower', 'incomes', 'men', '46', 'white', 'without', 'college', 'degrees', 'similarly', 'far', 'better', 'whose', 'household', '50,000', 'women', 'gender', 'gap', 'larger', 'previous', 'beneath', 'shifts', 'suggest', 'many', 'still', 'weighing', 'options', 'rise', 'parallels', 'dramatic', 'surge', 'decline', 'come', 'questions', 'foreign', 'policy', 'capabilities', 'reflected', 'state', 'well', 'meanwhile', 'steady', 'months', 'conducted', 'thursday', 'sundaydec', '10-13', 'random', 'sample', '1,002', 'reached', 'conventional', 'cellular', 'telephones', 'overall', 'plus', 'minus', '3.5', 'percentage', '362', 'republican-leaning']\n"
     ]
    }
   ],
   "source": [
    "# create object of the class and call the function summarize by passing Text and the maximum no. of statements want to see as summary\n",
    "fs=TextSummarizer()\n",
    "summary = fs.summarize(textofURL[1],3)"
   ]
  },
  {
   "cell_type": "code",
   "execution_count": 180,
   "metadata": {},
   "outputs": [
    {
     "data": {
      "text/plain": [
       "['Trump leads among every demographic and ideological group of Republicans in the survey, but he has significantly greater support among those with less education and lower incomes and among men.',\n",
       " '[Explore the complete results of the poll]      Republicans trust Trump on terrorism View Graphic     Republicans trust Trump on terrorism  At this point in the campaign, even with the first votes fewer than 50 days away, national polls are not always the reliable predictors of where presidential nominating contests are heading.',\n",
       " 'The results are the latest sign that Trump’s outspoken comments on immigration and terrorism continue to find an audience among rank-and-file Republicans in spite of sharp condemnation from Democrats, GOP leaders, some of Trump’s rivals and a chorus of world leaders.']"
      ]
     },
     "execution_count": 180,
     "metadata": {},
     "output_type": "execute_result"
    }
   ],
   "source": [
    "# The final result :- Summary of the Article\n",
    "summary"
   ]
  },
  {
   "cell_type": "code",
   "execution_count": 138,
   "metadata": {},
   "outputs": [
    {
     "data": {
      "text/plain": [
       "['In a hypothetical \\xadgeneral-election race, Trump trails Clinton, the Democratic front-runner, by 53 percent to 40 percent among all adults and 50 percent to 44 percent among registered voters.',\n",
       " '[Explore the complete results of the poll]      Republicans trust Trump on terrorism View Graphic     Republicans trust Trump on terrorism  At this point in the campaign, even with the first votes fewer than 50 days away, national polls are not always the reliable predictors of where presidential nominating contests are heading.',\n",
       " 'The results are the latest sign that Trump’s outspoken comments on immigration and terrorism continue to find an audience among rank-and-file Republicans in spite of sharp condemnation from Democrats, GOP leaders, some of Trump’s rivals and a chorus of world leaders.']"
      ]
     },
     "execution_count": 138,
     "metadata": {},
     "output_type": "execute_result"
    }
   ],
   "source": [
    "summary"
   ]
  },
  {
   "cell_type": "code",
   "execution_count": 155,
   "metadata": {},
   "outputs": [
    {
     "data": {
      "text/plain": [
       "'https://www.washingtonpost.com/politics/in-face-of-criticism-trump-surges-to-his-biggest-lead-over-the-gop-field/2015/12/14/b9555e30-a29c-11e5-9c4e-be37f66848bb_story.html'"
      ]
     },
     "execution_count": 155,
     "metadata": {},
     "output_type": "execute_result"
    }
   ],
   "source": [
    "someUrl"
   ]
  }
 ],
 "metadata": {
  "kernelspec": {
   "display_name": "Python 3",
   "language": "python",
   "name": "python3"
  },
  "language_info": {
   "codemirror_mode": {
    "name": "ipython",
    "version": 3
   },
   "file_extension": ".py",
   "mimetype": "text/x-python",
   "name": "python",
   "nbconvert_exporter": "python",
   "pygments_lexer": "ipython3",
   "version": "3.6.5"
  }
 },
 "nbformat": 4,
 "nbformat_minor": 2
}
